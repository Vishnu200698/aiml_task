{
 "cells": [
  {
   "cell_type": "code",
   "execution_count": 2,
   "id": "b34468e7-d18e-4e45-856f-d3dfb1457f34",
   "metadata": {},
   "outputs": [
    {
     "data": {
      "text/plain": [
       "{3, 4, 5, 6, 8, 12, 90}"
      ]
     },
     "execution_count": 2,
     "metadata": {},
     "output_type": "execute_result"
    }
   ],
   "source": [
    "#sets will not print duplicate values\n",
    "s={12,3,4,5,6,8,90,6}\n",
    "s"
   ]
  },
  {
   "cell_type": "code",
   "execution_count": 1,
   "id": "dd74022a-7096-47e5-a0db-04fad294bf49",
   "metadata": {},
   "outputs": [
    {
     "data": {
      "text/plain": [
       "{1, 2, 3, 4}"
      ]
     },
     "execution_count": 1,
     "metadata": {},
     "output_type": "execute_result"
    }
   ],
   "source": [
    "list=[1,2,3,4]\n",
    "s=set(list)\n",
    "s"
   ]
  },
  {
   "cell_type": "code",
   "execution_count": 15,
   "id": "3b950c7f-f722-4afe-96a4-f095aee6e043",
   "metadata": {},
   "outputs": [
    {
     "data": {
      "text/plain": [
       "['__and__',\n",
       " '__class__',\n",
       " '__class_getitem__',\n",
       " '__contains__',\n",
       " '__delattr__',\n",
       " '__dir__',\n",
       " '__doc__',\n",
       " '__eq__',\n",
       " '__format__',\n",
       " '__ge__',\n",
       " '__getattribute__',\n",
       " '__getstate__',\n",
       " '__gt__',\n",
       " '__hash__',\n",
       " '__iand__',\n",
       " '__init__',\n",
       " '__init_subclass__',\n",
       " '__ior__',\n",
       " '__isub__',\n",
       " '__iter__',\n",
       " '__ixor__',\n",
       " '__le__',\n",
       " '__len__',\n",
       " '__lt__',\n",
       " '__ne__',\n",
       " '__new__',\n",
       " '__or__',\n",
       " '__rand__',\n",
       " '__reduce__',\n",
       " '__reduce_ex__',\n",
       " '__repr__',\n",
       " '__ror__',\n",
       " '__rsub__',\n",
       " '__rxor__',\n",
       " '__setattr__',\n",
       " '__sizeof__',\n",
       " '__str__',\n",
       " '__sub__',\n",
       " '__subclasshook__',\n",
       " '__xor__',\n",
       " 'add',\n",
       " 'clear',\n",
       " 'copy',\n",
       " 'difference',\n",
       " 'difference_update',\n",
       " 'discard',\n",
       " 'intersection',\n",
       " 'intersection_update',\n",
       " 'isdisjoint',\n",
       " 'issubset',\n",
       " 'issuperset',\n",
       " 'pop',\n",
       " 'remove',\n",
       " 'symmetric_difference',\n",
       " 'symmetric_difference_update',\n",
       " 'union',\n",
       " 'update']"
      ]
     },
     "execution_count": 15,
     "metadata": {},
     "output_type": "execute_result"
    }
   ],
   "source": [
    "dir(set)"
   ]
  },
  {
   "cell_type": "code",
   "execution_count": 3,
   "id": "38cf9abd-14ed-4b28-adc5-444de68f865a",
   "metadata": {},
   "outputs": [
    {
     "data": {
      "text/plain": [
       "{1, 2, 3, 4, 5, 6}"
      ]
     },
     "execution_count": 3,
     "metadata": {},
     "output_type": "execute_result"
    }
   ],
   "source": [
    "#union of the two sets\n",
    "s1={1,2,3,4}\n",
    "s2={3,4,5,6}\n",
    "s1|s2"
   ]
  },
  {
   "cell_type": "code",
   "execution_count": 6,
   "id": "44204166-0007-41b9-aedc-4d7b61a97dbd",
   "metadata": {},
   "outputs": [
    {
     "data": {
      "text/plain": [
       "{1, 2, 3, 4, 5, 6}"
      ]
     },
     "execution_count": 6,
     "metadata": {},
     "output_type": "execute_result"
    }
   ],
   "source": [
    "s1.union(s2)"
   ]
  },
  {
   "cell_type": "code",
   "execution_count": 7,
   "id": "40e335fb-8a8e-4c27-b342-abbd693c92d8",
   "metadata": {},
   "outputs": [
    {
     "data": {
      "text/plain": [
       "{3, 4}"
      ]
     },
     "execution_count": 7,
     "metadata": {},
     "output_type": "execute_result"
    }
   ],
   "source": [
    "#intersetion\n",
    "s1&s2"
   ]
  },
  {
   "cell_type": "code",
   "execution_count": 8,
   "id": "165fe2cd-b784-48db-8fed-d0acaf505c05",
   "metadata": {},
   "outputs": [
    {
     "data": {
      "text/plain": [
       "{1, 2}"
      ]
     },
     "execution_count": 8,
     "metadata": {},
     "output_type": "execute_result"
    }
   ],
   "source": [
    "#difference\n",
    "s1-s2"
   ]
  },
  {
   "cell_type": "code",
   "execution_count": 9,
   "id": "5c4183d3-fc66-46b0-806f-a30532603fa6",
   "metadata": {},
   "outputs": [
    {
     "data": {
      "text/plain": [
       "{1, 2, 5, 6}"
      ]
     },
     "execution_count": 9,
     "metadata": {},
     "output_type": "execute_result"
    }
   ],
   "source": [
    "s2.symmetric_difference(s1)"
   ]
  },
  {
   "cell_type": "code",
   "execution_count": 22,
   "id": "f4e275cd-f0a9-401d-9644-07da85c2550f",
   "metadata": {},
   "outputs": [
    {
     "name": "stdout",
     "output_type": "stream",
     "text": [
      "welcome to aiml class\n",
      "to\n",
      "mruh\n"
     ]
    }
   ],
   "source": [
    "#STRINGS\n",
    "str1='welcome to aiml class'\n",
    "print(str1)\n",
    "str2='to'\n",
    "print(str2)\n",
    "str3='mruh'\n",
    "print(str3)\n"
   ]
  },
  {
   "cell_type": "code",
   "execution_count": 19,
   "id": "eb765792-dcc6-4c72-8a1c-a2410605fef1",
   "metadata": {},
   "outputs": [
    {
     "name": "stdout",
     "output_type": "stream",
     "text": [
      "He said,\"it's awesome\"\n"
     ]
    }
   ],
   "source": [
    "str4='''He said,\"it's awesome\"'''\n",
    "print(str4)"
   ]
  },
  {
   "cell_type": "code",
   "execution_count": 23,
   "id": "c845e57d-d6d2-49ef-b04f-89c76f2b6b9d",
   "metadata": {},
   "outputs": [
    {
     "name": "stdout",
     "output_type": "stream",
     "text": [
      "welcome to aiml class\n"
     ]
    },
    {
     "data": {
      "text/plain": [
       "'me to'"
      ]
     },
     "execution_count": 23,
     "metadata": {},
     "output_type": "execute_result"
    }
   ],
   "source": [
    "print(str1)\n",
    "str1[5:10]"
   ]
  },
  {
   "cell_type": "code",
   "execution_count": 25,
   "id": "81421aa9-d109-428d-863f-08d55390b6e7",
   "metadata": {},
   "outputs": [
    {
     "data": {
      "text/plain": [
       "'ssalc lmia ot emoclew'"
      ]
     },
     "execution_count": 25,
     "metadata": {},
     "output_type": "execute_result"
    }
   ],
   "source": [
    "#reversing\n",
    "str1[::-1]"
   ]
  },
  {
   "cell_type": "code",
   "execution_count": 26,
   "id": "a4d93fbc-db21-4da9-88a4-359c53ac4cf1",
   "metadata": {},
   "outputs": [
    {
     "data": {
      "text/plain": [
       "['__add__',\n",
       " '__class__',\n",
       " '__contains__',\n",
       " '__delattr__',\n",
       " '__dir__',\n",
       " '__doc__',\n",
       " '__eq__',\n",
       " '__format__',\n",
       " '__ge__',\n",
       " '__getattribute__',\n",
       " '__getitem__',\n",
       " '__getnewargs__',\n",
       " '__getstate__',\n",
       " '__gt__',\n",
       " '__hash__',\n",
       " '__init__',\n",
       " '__init_subclass__',\n",
       " '__iter__',\n",
       " '__le__',\n",
       " '__len__',\n",
       " '__lt__',\n",
       " '__mod__',\n",
       " '__mul__',\n",
       " '__ne__',\n",
       " '__new__',\n",
       " '__reduce__',\n",
       " '__reduce_ex__',\n",
       " '__repr__',\n",
       " '__rmod__',\n",
       " '__rmul__',\n",
       " '__setattr__',\n",
       " '__sizeof__',\n",
       " '__str__',\n",
       " '__subclasshook__',\n",
       " 'capitalize',\n",
       " 'casefold',\n",
       " 'center',\n",
       " 'count',\n",
       " 'encode',\n",
       " 'endswith',\n",
       " 'expandtabs',\n",
       " 'find',\n",
       " 'format',\n",
       " 'format_map',\n",
       " 'index',\n",
       " 'isalnum',\n",
       " 'isalpha',\n",
       " 'isascii',\n",
       " 'isdecimal',\n",
       " 'isdigit',\n",
       " 'isidentifier',\n",
       " 'islower',\n",
       " 'isnumeric',\n",
       " 'isprintable',\n",
       " 'isspace',\n",
       " 'istitle',\n",
       " 'isupper',\n",
       " 'join',\n",
       " 'ljust',\n",
       " 'lower',\n",
       " 'lstrip',\n",
       " 'maketrans',\n",
       " 'partition',\n",
       " 'removeprefix',\n",
       " 'removesuffix',\n",
       " 'replace',\n",
       " 'rfind',\n",
       " 'rindex',\n",
       " 'rjust',\n",
       " 'rpartition',\n",
       " 'rsplit',\n",
       " 'rstrip',\n",
       " 'split',\n",
       " 'splitlines',\n",
       " 'startswith',\n",
       " 'strip',\n",
       " 'swapcase',\n",
       " 'title',\n",
       " 'translate',\n",
       " 'upper',\n",
       " 'zfill']"
      ]
     },
     "execution_count": 26,
     "metadata": {},
     "output_type": "execute_result"
    }
   ],
   "source": [
    "dir(str)"
   ]
  },
  {
   "cell_type": "code",
   "execution_count": 27,
   "id": "0e10da18-f779-4050-9b7e-bd2cf550ca98",
   "metadata": {},
   "outputs": [
    {
     "name": "stdout",
     "output_type": "stream",
     "text": [
      "welcome to aiml class\n"
     ]
    },
    {
     "data": {
      "text/plain": [
       "['welcome', 'to', 'aiml', 'class']"
      ]
     },
     "execution_count": 27,
     "metadata": {},
     "output_type": "execute_result"
    }
   ],
   "source": [
    "#split method, it will splits the whole statment will divided into the word tokens means word by word \n",
    "print(str1)\n",
    "str1.split()"
   ]
  },
  {
   "cell_type": "code",
   "execution_count": 30,
   "id": "1f243d3d-a30c-4a6d-9ec5-4d11653ac91d",
   "metadata": {},
   "outputs": [
    {
     "data": {
      "text/plain": [
       "'the product is nice great services'"
      ]
     },
     "execution_count": 30,
     "metadata": {},
     "output_type": "execute_result"
    }
   ],
   "source": [
    "#join method\n",
    "r=['the product is nice', 'great services']\n",
    "joinedstr=' '.join(r)\n",
    "joinedstr"
   ]
  },
  {
   "cell_type": "code",
   "execution_count": 34,
   "id": "83048047-2c64-4845-9421-a01e54505923",
   "metadata": {},
   "outputs": [
    {
     "name": "stdout",
     "output_type": "stream",
     "text": [
      "    Hello, how are u      \n"
     ]
    },
    {
     "data": {
      "text/plain": [
       "'Hello, how are u'"
      ]
     },
     "execution_count": 34,
     "metadata": {},
     "output_type": "execute_result"
    }
   ],
   "source": [
    "#split method\n",
    "str5='    Hello, how are u      '\n",
    "print(str5)\n",
    "str5.strip()"
   ]
  },
  {
   "cell_type": "code",
   "execution_count": null,
   "id": "12e3979f-f2e5-455f-9539-9af22618f21a",
   "metadata": {},
   "outputs": [],
   "source": []
  }
 ],
 "metadata": {
  "kernelspec": {
   "display_name": "Python 3 (ipykernel)",
   "language": "python",
   "name": "python3"
  },
  "language_info": {
   "codemirror_mode": {
    "name": "ipython",
    "version": 3
   },
   "file_extension": ".py",
   "mimetype": "text/x-python",
   "name": "python",
   "nbconvert_exporter": "python",
   "pygments_lexer": "ipython3",
   "version": "3.12.7"
  }
 },
 "nbformat": 4,
 "nbformat_minor": 5
}
