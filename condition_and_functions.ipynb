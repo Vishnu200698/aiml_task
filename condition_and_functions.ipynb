{
 "cells": [
  {
   "cell_type": "code",
   "execution_count": 2,
   "id": "eae7ecd1-b6f7-4958-bdd0-ddb2ff08a6f1",
   "metadata": {},
   "outputs": [
    {
     "name": "stdout",
     "output_type": "stream",
     "text": [
      "even\n"
     ]
    }
   ],
   "source": [
    "a=6\n",
    "if a%2==0:\n",
    "    print('even')\n",
    "else:\n",
    "    print('odd')"
   ]
  },
  {
   "cell_type": "code",
   "execution_count": 4,
   "id": "9d2edb9c-36a6-45f2-9cc9-f7ba62ade899",
   "metadata": {},
   "outputs": [
    {
     "name": "stdout",
     "output_type": "stream",
     "text": [
      "even\n"
     ]
    }
   ],
   "source": [
    "#short way for the if else statements\n",
    "print('even') if a%2==0 else print('odd')\n"
   ]
  },
  {
   "cell_type": "code",
   "execution_count": 9,
   "id": "41843bc5-2738-4266-b629-e84cfa70aefb",
   "metadata": {},
   "outputs": [
    {
     "name": "stdout",
     "output_type": "stream",
     "text": [
      "positive\n"
     ]
    }
   ],
   "source": [
    "x=10\n",
    "result='positive' if x>0 else 'Negative'\n",
    "print(result)"
   ]
  },
  {
   "cell_type": "code",
   "execution_count": 11,
   "id": "174ebd1b-b904-4b3d-bb78-36787ed7079c",
   "metadata": {},
   "outputs": [
    {
     "name": "stdout",
     "output_type": "stream",
     "text": [
      "Minor\n"
     ]
    }
   ],
   "source": [
    "age=17\n",
    "category='Adult' if age>=18 else 'Minor'\n",
    "print(category)"
   ]
  },
  {
   "cell_type": "code",
   "execution_count": 21,
   "id": "ee47ce99-2928-40b0-8736-27e5d99c0a9e",
   "metadata": {},
   "outputs": [
    {
     "name": "stdout",
     "output_type": "stream",
     "text": [
      "Positive\n"
     ]
    }
   ],
   "source": [
    "#nested if else example\n",
    "b=5\n",
    "c='Positive' if b>0 else 'Negative' if b<0 else 'zero'\n",
    "print(c)"
   ]
  },
  {
   "cell_type": "code",
   "execution_count": 23,
   "id": "0ed039ba-ae0f-4158-9c4d-e6b514feb05c",
   "metadata": {},
   "outputs": [
    {
     "data": {
      "text/plain": [
       "[2, 4, 6, 8, 10]"
      ]
     },
     "execution_count": 23,
     "metadata": {},
     "output_type": "execute_result"
    }
   ],
   "source": [
    "#short way of the for loops \n",
    "l=[1,2,3,4,5]\n",
    "[2*x  for x in l]"
   ]
  },
  {
   "cell_type": "code",
   "execution_count": 24,
   "id": "5a5c4666-b3bd-4fbb-9b7b-fe3a911e577b",
   "metadata": {},
   "outputs": [
    {
     "data": {
      "text/plain": [
       "[2, 4]"
      ]
     },
     "execution_count": 24,
     "metadata": {},
     "output_type": "execute_result"
    }
   ],
   "source": [
    "[x for x in l if x%2==0]"
   ]
  },
  {
   "cell_type": "code",
   "execution_count": 25,
   "id": "0e2d21de-352a-47fb-87c1-7ad40263b0a7",
   "metadata": {},
   "outputs": [
    {
     "data": {
      "text/plain": [
       "[1, 3, 5]"
      ]
     },
     "execution_count": 25,
     "metadata": {},
     "output_type": "execute_result"
    }
   ],
   "source": [
    "[x for x in l if x%2!=0]"
   ]
  },
  {
   "cell_type": "code",
   "execution_count": 26,
   "id": "a071de42-53ea-4be3-a6f9-43b7547a66ba",
   "metadata": {},
   "outputs": [
    {
     "data": {
      "text/plain": [
       "{'Ram': [1, 2, 3, 4, 5], 'Raju': [5, 6, 7, 8, 8], 'Ramu': [4, 3, 5, 6, 8]}"
      ]
     },
     "execution_count": 26,
     "metadata": {},
     "output_type": "execute_result"
    }
   ],
   "source": [
    "d1={'Ram':[1,2,3,4,5],'Raju':[5,6,7,8,8],'Ramu':[4,3,5,6,8]}\n",
    "d1"
   ]
  },
  {
   "cell_type": "code",
   "execution_count": 29,
   "id": "7e17bf0a-050e-4423-bbb8-268c8575dc1c",
   "metadata": {},
   "outputs": [
    {
     "data": {
      "text/plain": [
       "{'Ram': 3.0, 'Raju': 6.8, 'Ramu': 5.2}"
      ]
     },
     "execution_count": 29,
     "metadata": {},
     "output_type": "execute_result"
    }
   ],
   "source": [
    "#average of the students\n",
    "{k:sum(v)/len(v) for k,v in d1.items()}"
   ]
  },
  {
   "cell_type": "code",
   "execution_count": 33,
   "id": "c6f79c38-72d3-4f02-a20c-a6c9e1c45096",
   "metadata": {},
   "outputs": [],
   "source": [
    "#write a user defined function to compute avereage\n",
    "#Define function(resuable fundtion)\n",
    "def mean_value(given_list):\n",
    "    total=sum(given_list)\n",
    "    average_value=total/len(given_list)\n",
    "    return average_value"
   ]
  },
  {
   "cell_type": "code",
   "execution_count": 34,
   "id": "08f0afb5-1306-4821-bfbe-589f23557136",
   "metadata": {},
   "outputs": [
    {
     "data": {
      "text/plain": [
       "4.666666666666667"
      ]
     },
     "execution_count": 34,
     "metadata": {},
     "output_type": "execute_result"
    }
   ],
   "source": [
    "#call the function\n",
    "l=[1,2,3,4,5,6,6,7,8]\n",
    "mean_value(l)"
   ]
  },
  {
   "cell_type": "code",
   "execution_count": 42,
   "id": "92a1e862-4bf3-4c07-b0f8-fbeab8d54275",
   "metadata": {},
   "outputs": [
    {
     "name": "stdout",
     "output_type": "stream",
     "text": [
      "Ram 3.0\n",
      "Raju 6.8\n",
      "Ramu 5.2\n"
     ]
    }
   ],
   "source": [
    "for i,j in d1.items():\n",
    "    a=sum(j)/len(j)\n",
    "    print(i,a)"
   ]
  },
  {
   "cell_type": "code",
   "execution_count": 15,
   "id": "398481ad-7aa5-41a2-9202-9eb08376c829",
   "metadata": {},
   "outputs": [],
   "source": [
    "#function with variable number of argument\n",
    "def avg_value(*n):#here * means multiple values if don't put the * then it will take one element\n",
    "    l=len(n)\n",
    "    average=sum(n)/l\n",
    "    return average"
   ]
  },
  {
   "cell_type": "code",
   "execution_count": 16,
   "id": "520b7f76-7723-446e-86e9-81a7d886a857",
   "metadata": {},
   "outputs": [
    {
     "data": {
      "text/plain": [
       "35.0"
      ]
     },
     "execution_count": 16,
     "metadata": {},
     "output_type": "execute_result"
    }
   ],
   "source": [
    "avg_value(10,20,30,40,50,60)"
   ]
  },
  {
   "cell_type": "code",
   "execution_count": 19,
   "id": "d7deb750-f10c-4a33-baa8-69e26d8477e2",
   "metadata": {},
   "outputs": [],
   "source": [
    "#lamda functions\n",
    "greet = lambda name : print(f'Good morning {name}')#creating a function"
   ]
  },
  {
   "cell_type": "code",
   "execution_count": 22,
   "id": "9bc3403b-fbfc-41eb-84a3-910b0f41583c",
   "metadata": {},
   "outputs": [
    {
     "name": "stdout",
     "output_type": "stream",
     "text": [
      "Good morning vishnu\n"
     ]
    },
    {
     "name": "stdin",
     "output_type": "stream",
     "text": [
      "Enter your name gopi\n"
     ]
    },
    {
     "name": "stdout",
     "output_type": "stream",
     "text": [
      "Good morning gopi\n"
     ]
    }
   ],
   "source": [
    "#calling the function\n",
    "greet('vishnu')\n",
    "a=input('Enter your name')\n",
    "greet(a)"
   ]
  },
  {
   "cell_type": "code",
   "execution_count": 24,
   "id": "d10d5896-9096-4ea9-aff0-db8403d2c51d",
   "metadata": {},
   "outputs": [
    {
     "name": "stdin",
     "output_type": "stream",
     "text": [
      "Enter a number:  2\n",
      "Enter a number:  2\n",
      "Enter a number:  2\n"
     ]
    },
    {
     "data": {
      "text/plain": [
       "8"
      ]
     },
     "execution_count": 24,
     "metadata": {},
     "output_type": "execute_result"
    }
   ],
   "source": [
    "#write a lambda functon to print the product of the three numbers\n",
    "product=lambda a,b,c: a*b*c\n",
    "a=int(input(\"Enter a number: \"))\n",
    "b=int(input('Enter a number: '))\n",
    "c=int(input('Enter a number: '))\n",
    "product(a,b,c)"
   ]
  },
  {
   "cell_type": "code",
   "execution_count": 28,
   "id": "25918e4c-1d8c-4132-8bbf-cc174b37f9a7",
   "metadata": {},
   "outputs": [
    {
     "data": {
      "text/plain": [
       "[2, 4, 6, 8, 10]"
      ]
     },
     "execution_count": 28,
     "metadata": {},
     "output_type": "execute_result"
    }
   ],
   "source": [
    "even=lambda l: [x for x in l if x%2==0]\n",
    "list1=[1,2,3,4,5,6,7,8,9,10]\n",
    "even(list1)"
   ]
  },
  {
   "cell_type": "code",
   "execution_count": 30,
   "id": "7491e720-c81d-4491-b111-522808e30d29",
   "metadata": {},
   "outputs": [
    {
     "name": "stdin",
     "output_type": "stream",
     "text": [
      " 10\n",
      " 6\n"
     ]
    },
    {
     "data": {
      "text/plain": [
       "'Maximum number is 10'"
      ]
     },
     "execution_count": 30,
     "metadata": {},
     "output_type": "execute_result"
    }
   ],
   "source": [
    "max1=lambda a,b: f'Maximum number is {a}'if a>b else f'{b} is Maximum'\n",
    "a=int(input())\n",
    "b=int(input())\n",
    "max1(a,b)"
   ]
  },
  {
   "cell_type": "code",
   "execution_count": 32,
   "id": "0a4a136c-8eac-41ce-97d0-da799691035f",
   "metadata": {},
   "outputs": [
    {
     "name": "stdin",
     "output_type": "stream",
     "text": [
      " 9\n"
     ]
    },
    {
     "name": "stdout",
     "output_type": "stream",
     "text": [
      "False\n"
     ]
    }
   ],
   "source": [
    "even1=lambda c: print('True') if c%2==0 else print('False')\n",
    "c=int(input())\n",
    "even1(c)"
   ]
  },
  {
   "cell_type": "code",
   "execution_count": null,
   "id": "be8961b0-51b3-406f-8818-0526920acee4",
   "metadata": {},
   "outputs": [],
   "source": []
  }
 ],
 "metadata": {
  "kernelspec": {
   "display_name": "Python 3 (ipykernel)",
   "language": "python",
   "name": "python3"
  },
  "language_info": {
   "codemirror_mode": {
    "name": "ipython",
    "version": 3
   },
   "file_extension": ".py",
   "mimetype": "text/x-python",
   "name": "python",
   "nbconvert_exporter": "python",
   "pygments_lexer": "ipython3",
   "version": "3.12.7"
  }
 },
 "nbformat": 4,
 "nbformat_minor": 5
}
