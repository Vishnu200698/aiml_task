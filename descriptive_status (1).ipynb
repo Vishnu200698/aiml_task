{
 "cells": [
  {
   "cell_type": "code",
   "execution_count": 22,
   "id": "a5ba8796-3450-4ece-bef6-684c37b53c4d",
   "metadata": {},
   "outputs": [],
   "source": [
    "import numpy as np\n",
    "import pandas as pd"
   ]
  },
  {
   "cell_type": "code",
   "execution_count": 23,
   "id": "6bdefdc7-71ed-4097-ac2a-3340c0f786c6",
   "metadata": {},
   "outputs": [
    {
     "data": {
      "text/html": [
       "<div>\n",
       "<style scoped>\n",
       "    .dataframe tbody tr th:only-of-type {\n",
       "        vertical-align: middle;\n",
       "    }\n",
       "\n",
       "    .dataframe tbody tr th {\n",
       "        vertical-align: top;\n",
       "    }\n",
       "\n",
       "    .dataframe thead th {\n",
       "        text-align: right;\n",
       "    }\n",
       "</style>\n",
       "<table border=\"1\" class=\"dataframe\">\n",
       "  <thead>\n",
       "    <tr style=\"text-align: right;\">\n",
       "      <th></th>\n",
       "      <th>Univ</th>\n",
       "      <th>SAT</th>\n",
       "      <th>Top10</th>\n",
       "      <th>Accept</th>\n",
       "      <th>SFRatio</th>\n",
       "      <th>Expenses</th>\n",
       "      <th>GradRate</th>\n",
       "    </tr>\n",
       "  </thead>\n",
       "  <tbody>\n",
       "    <tr>\n",
       "      <th>0</th>\n",
       "      <td>Brown</td>\n",
       "      <td>1310</td>\n",
       "      <td>89</td>\n",
       "      <td>22</td>\n",
       "      <td>13</td>\n",
       "      <td>22704</td>\n",
       "      <td>94</td>\n",
       "    </tr>\n",
       "    <tr>\n",
       "      <th>1</th>\n",
       "      <td>CalTech</td>\n",
       "      <td>1415</td>\n",
       "      <td>100</td>\n",
       "      <td>25</td>\n",
       "      <td>6</td>\n",
       "      <td>63575</td>\n",
       "      <td>81</td>\n",
       "    </tr>\n",
       "    <tr>\n",
       "      <th>2</th>\n",
       "      <td>CMU</td>\n",
       "      <td>1260</td>\n",
       "      <td>62</td>\n",
       "      <td>59</td>\n",
       "      <td>9</td>\n",
       "      <td>25026</td>\n",
       "      <td>72</td>\n",
       "    </tr>\n",
       "    <tr>\n",
       "      <th>3</th>\n",
       "      <td>Columbia</td>\n",
       "      <td>1310</td>\n",
       "      <td>76</td>\n",
       "      <td>24</td>\n",
       "      <td>12</td>\n",
       "      <td>31510</td>\n",
       "      <td>88</td>\n",
       "    </tr>\n",
       "    <tr>\n",
       "      <th>4</th>\n",
       "      <td>Cornell</td>\n",
       "      <td>1280</td>\n",
       "      <td>83</td>\n",
       "      <td>33</td>\n",
       "      <td>13</td>\n",
       "      <td>21864</td>\n",
       "      <td>90</td>\n",
       "    </tr>\n",
       "    <tr>\n",
       "      <th>5</th>\n",
       "      <td>Dartmouth</td>\n",
       "      <td>1340</td>\n",
       "      <td>89</td>\n",
       "      <td>23</td>\n",
       "      <td>10</td>\n",
       "      <td>32162</td>\n",
       "      <td>95</td>\n",
       "    </tr>\n",
       "    <tr>\n",
       "      <th>6</th>\n",
       "      <td>Duke</td>\n",
       "      <td>1315</td>\n",
       "      <td>90</td>\n",
       "      <td>30</td>\n",
       "      <td>12</td>\n",
       "      <td>31585</td>\n",
       "      <td>95</td>\n",
       "    </tr>\n",
       "    <tr>\n",
       "      <th>7</th>\n",
       "      <td>Georgetown</td>\n",
       "      <td>1255</td>\n",
       "      <td>74</td>\n",
       "      <td>24</td>\n",
       "      <td>12</td>\n",
       "      <td>20126</td>\n",
       "      <td>92</td>\n",
       "    </tr>\n",
       "    <tr>\n",
       "      <th>8</th>\n",
       "      <td>Harvard</td>\n",
       "      <td>1400</td>\n",
       "      <td>91</td>\n",
       "      <td>14</td>\n",
       "      <td>11</td>\n",
       "      <td>39525</td>\n",
       "      <td>97</td>\n",
       "    </tr>\n",
       "    <tr>\n",
       "      <th>9</th>\n",
       "      <td>JohnsHopkins</td>\n",
       "      <td>1305</td>\n",
       "      <td>75</td>\n",
       "      <td>44</td>\n",
       "      <td>7</td>\n",
       "      <td>58691</td>\n",
       "      <td>87</td>\n",
       "    </tr>\n",
       "    <tr>\n",
       "      <th>10</th>\n",
       "      <td>MIT</td>\n",
       "      <td>1380</td>\n",
       "      <td>94</td>\n",
       "      <td>30</td>\n",
       "      <td>10</td>\n",
       "      <td>34870</td>\n",
       "      <td>91</td>\n",
       "    </tr>\n",
       "    <tr>\n",
       "      <th>11</th>\n",
       "      <td>Northwestern</td>\n",
       "      <td>1260</td>\n",
       "      <td>85</td>\n",
       "      <td>39</td>\n",
       "      <td>11</td>\n",
       "      <td>28052</td>\n",
       "      <td>89</td>\n",
       "    </tr>\n",
       "    <tr>\n",
       "      <th>12</th>\n",
       "      <td>NotreDame</td>\n",
       "      <td>1255</td>\n",
       "      <td>81</td>\n",
       "      <td>42</td>\n",
       "      <td>13</td>\n",
       "      <td>15122</td>\n",
       "      <td>94</td>\n",
       "    </tr>\n",
       "    <tr>\n",
       "      <th>13</th>\n",
       "      <td>PennState</td>\n",
       "      <td>1081</td>\n",
       "      <td>38</td>\n",
       "      <td>54</td>\n",
       "      <td>18</td>\n",
       "      <td>10185</td>\n",
       "      <td>80</td>\n",
       "    </tr>\n",
       "    <tr>\n",
       "      <th>14</th>\n",
       "      <td>Princeton</td>\n",
       "      <td>1375</td>\n",
       "      <td>91</td>\n",
       "      <td>14</td>\n",
       "      <td>8</td>\n",
       "      <td>30220</td>\n",
       "      <td>95</td>\n",
       "    </tr>\n",
       "    <tr>\n",
       "      <th>15</th>\n",
       "      <td>Purdue</td>\n",
       "      <td>1005</td>\n",
       "      <td>28</td>\n",
       "      <td>90</td>\n",
       "      <td>19</td>\n",
       "      <td>9066</td>\n",
       "      <td>69</td>\n",
       "    </tr>\n",
       "    <tr>\n",
       "      <th>16</th>\n",
       "      <td>Stanford</td>\n",
       "      <td>1360</td>\n",
       "      <td>90</td>\n",
       "      <td>20</td>\n",
       "      <td>12</td>\n",
       "      <td>36450</td>\n",
       "      <td>93</td>\n",
       "    </tr>\n",
       "    <tr>\n",
       "      <th>17</th>\n",
       "      <td>TexasA&amp;M</td>\n",
       "      <td>1075</td>\n",
       "      <td>49</td>\n",
       "      <td>67</td>\n",
       "      <td>25</td>\n",
       "      <td>8704</td>\n",
       "      <td>67</td>\n",
       "    </tr>\n",
       "    <tr>\n",
       "      <th>18</th>\n",
       "      <td>UCBerkeley</td>\n",
       "      <td>1240</td>\n",
       "      <td>95</td>\n",
       "      <td>40</td>\n",
       "      <td>17</td>\n",
       "      <td>15140</td>\n",
       "      <td>78</td>\n",
       "    </tr>\n",
       "    <tr>\n",
       "      <th>19</th>\n",
       "      <td>UChicago</td>\n",
       "      <td>1290</td>\n",
       "      <td>75</td>\n",
       "      <td>50</td>\n",
       "      <td>13</td>\n",
       "      <td>38380</td>\n",
       "      <td>87</td>\n",
       "    </tr>\n",
       "    <tr>\n",
       "      <th>20</th>\n",
       "      <td>UMichigan</td>\n",
       "      <td>1180</td>\n",
       "      <td>65</td>\n",
       "      <td>68</td>\n",
       "      <td>16</td>\n",
       "      <td>15470</td>\n",
       "      <td>85</td>\n",
       "    </tr>\n",
       "    <tr>\n",
       "      <th>21</th>\n",
       "      <td>UPenn</td>\n",
       "      <td>1285</td>\n",
       "      <td>80</td>\n",
       "      <td>36</td>\n",
       "      <td>11</td>\n",
       "      <td>27553</td>\n",
       "      <td>90</td>\n",
       "    </tr>\n",
       "    <tr>\n",
       "      <th>22</th>\n",
       "      <td>UVA</td>\n",
       "      <td>1225</td>\n",
       "      <td>77</td>\n",
       "      <td>44</td>\n",
       "      <td>14</td>\n",
       "      <td>13349</td>\n",
       "      <td>92</td>\n",
       "    </tr>\n",
       "    <tr>\n",
       "      <th>23</th>\n",
       "      <td>UWisconsin</td>\n",
       "      <td>1085</td>\n",
       "      <td>40</td>\n",
       "      <td>69</td>\n",
       "      <td>15</td>\n",
       "      <td>11857</td>\n",
       "      <td>71</td>\n",
       "    </tr>\n",
       "    <tr>\n",
       "      <th>24</th>\n",
       "      <td>Yale</td>\n",
       "      <td>1375</td>\n",
       "      <td>95</td>\n",
       "      <td>19</td>\n",
       "      <td>11</td>\n",
       "      <td>43514</td>\n",
       "      <td>96</td>\n",
       "    </tr>\n",
       "  </tbody>\n",
       "</table>\n",
       "</div>"
      ],
      "text/plain": [
       "            Univ   SAT  Top10  Accept  SFRatio  Expenses  GradRate\n",
       "0          Brown  1310     89      22       13     22704        94\n",
       "1        CalTech  1415    100      25        6     63575        81\n",
       "2            CMU  1260     62      59        9     25026        72\n",
       "3       Columbia  1310     76      24       12     31510        88\n",
       "4        Cornell  1280     83      33       13     21864        90\n",
       "5      Dartmouth  1340     89      23       10     32162        95\n",
       "6           Duke  1315     90      30       12     31585        95\n",
       "7     Georgetown  1255     74      24       12     20126        92\n",
       "8        Harvard  1400     91      14       11     39525        97\n",
       "9   JohnsHopkins  1305     75      44        7     58691        87\n",
       "10           MIT  1380     94      30       10     34870        91\n",
       "11  Northwestern  1260     85      39       11     28052        89\n",
       "12     NotreDame  1255     81      42       13     15122        94\n",
       "13     PennState  1081     38      54       18     10185        80\n",
       "14     Princeton  1375     91      14        8     30220        95\n",
       "15        Purdue  1005     28      90       19      9066        69\n",
       "16      Stanford  1360     90      20       12     36450        93\n",
       "17      TexasA&M  1075     49      67       25      8704        67\n",
       "18    UCBerkeley  1240     95      40       17     15140        78\n",
       "19      UChicago  1290     75      50       13     38380        87\n",
       "20     UMichigan  1180     65      68       16     15470        85\n",
       "21         UPenn  1285     80      36       11     27553        90\n",
       "22           UVA  1225     77      44       14     13349        92\n",
       "23    UWisconsin  1085     40      69       15     11857        71\n",
       "24          Yale  1375     95      19       11     43514        96"
      ]
     },
     "execution_count": 23,
     "metadata": {},
     "output_type": "execute_result"
    }
   ],
   "source": [
    "df=pd.read_csv('Universities1.csv')\n",
    "df"
   ]
  },
  {
   "cell_type": "code",
   "execution_count": 24,
   "id": "1e12da24-2882-42a6-ac47-129d4a32ab8b",
   "metadata": {},
   "outputs": [
    {
     "data": {
      "text/plain": [
       "1266.44"
      ]
     },
     "execution_count": 24,
     "metadata": {},
     "output_type": "execute_result"
    }
   ],
   "source": [
    "#mean of the data\n",
    "np.mean(df['SAT'])"
   ]
  },
  {
   "cell_type": "code",
   "execution_count": 25,
   "id": "ec30e025-90b1-4ea4-9133-7f0b66e67a23",
   "metadata": {},
   "outputs": [
    {
     "data": {
      "text/plain": [
       "1285.0"
      ]
     },
     "execution_count": 25,
     "metadata": {},
     "output_type": "execute_result"
    }
   ],
   "source": [
    "#median of the data\n",
    "np.median(df['SAT'])"
   ]
  },
  {
   "cell_type": "code",
   "execution_count": 26,
   "id": "516deb06-61ff-40ca-9afb-78a3fe9c190d",
   "metadata": {},
   "outputs": [
    {
     "data": {
      "text/plain": [
       "27388.0"
      ]
     },
     "execution_count": 26,
     "metadata": {},
     "output_type": "execute_result"
    }
   ],
   "source": [
    "np.mean(df['Expenses'])"
   ]
  },
  {
   "cell_type": "code",
   "execution_count": 27,
   "id": "8e29b190-7222-45e1-a59e-1eba3bff9505",
   "metadata": {},
   "outputs": [
    {
     "data": {
      "text/plain": [
       "8.874773236539623"
      ]
     },
     "execution_count": 27,
     "metadata": {},
     "output_type": "execute_result"
    }
   ],
   "source": [
    "np.std(df['GradRate'])"
   ]
  },
  {
   "cell_type": "code",
   "execution_count": 28,
   "id": "9e5cf2d1-dfcb-40e5-a062-41a73a221962",
   "metadata": {},
   "outputs": [
    {
     "data": {
      "text/plain": [
       "15.881599999999999"
      ]
     },
     "execution_count": 28,
     "metadata": {},
     "output_type": "execute_result"
    }
   ],
   "source": [
    "np.var(df['SFRatio'])"
   ]
  },
  {
   "cell_type": "code",
   "execution_count": 29,
   "id": "0dc5404d-c000-43af-81c3-24a1b35572f7",
   "metadata": {},
   "outputs": [
    {
     "data": {
      "text/html": [
       "<div>\n",
       "<style scoped>\n",
       "    .dataframe tbody tr th:only-of-type {\n",
       "        vertical-align: middle;\n",
       "    }\n",
       "\n",
       "    .dataframe tbody tr th {\n",
       "        vertical-align: top;\n",
       "    }\n",
       "\n",
       "    .dataframe thead th {\n",
       "        text-align: right;\n",
       "    }\n",
       "</style>\n",
       "<table border=\"1\" class=\"dataframe\">\n",
       "  <thead>\n",
       "    <tr style=\"text-align: right;\">\n",
       "      <th></th>\n",
       "      <th>SAT</th>\n",
       "      <th>Top10</th>\n",
       "      <th>Accept</th>\n",
       "      <th>SFRatio</th>\n",
       "      <th>Expenses</th>\n",
       "      <th>GradRate</th>\n",
       "    </tr>\n",
       "  </thead>\n",
       "  <tbody>\n",
       "    <tr>\n",
       "      <th>count</th>\n",
       "      <td>25.000000</td>\n",
       "      <td>25.000000</td>\n",
       "      <td>25.000000</td>\n",
       "      <td>25.00000</td>\n",
       "      <td>25.000000</td>\n",
       "      <td>25.000000</td>\n",
       "    </tr>\n",
       "    <tr>\n",
       "      <th>mean</th>\n",
       "      <td>1266.440000</td>\n",
       "      <td>76.480000</td>\n",
       "      <td>39.200000</td>\n",
       "      <td>12.72000</td>\n",
       "      <td>27388.000000</td>\n",
       "      <td>86.720000</td>\n",
       "    </tr>\n",
       "    <tr>\n",
       "      <th>std</th>\n",
       "      <td>108.359771</td>\n",
       "      <td>19.433905</td>\n",
       "      <td>19.727308</td>\n",
       "      <td>4.06735</td>\n",
       "      <td>14424.883165</td>\n",
       "      <td>9.057778</td>\n",
       "    </tr>\n",
       "    <tr>\n",
       "      <th>min</th>\n",
       "      <td>1005.000000</td>\n",
       "      <td>28.000000</td>\n",
       "      <td>14.000000</td>\n",
       "      <td>6.00000</td>\n",
       "      <td>8704.000000</td>\n",
       "      <td>67.000000</td>\n",
       "    </tr>\n",
       "    <tr>\n",
       "      <th>25%</th>\n",
       "      <td>1240.000000</td>\n",
       "      <td>74.000000</td>\n",
       "      <td>24.000000</td>\n",
       "      <td>11.00000</td>\n",
       "      <td>15140.000000</td>\n",
       "      <td>81.000000</td>\n",
       "    </tr>\n",
       "    <tr>\n",
       "      <th>50%</th>\n",
       "      <td>1285.000000</td>\n",
       "      <td>81.000000</td>\n",
       "      <td>36.000000</td>\n",
       "      <td>12.00000</td>\n",
       "      <td>27553.000000</td>\n",
       "      <td>90.000000</td>\n",
       "    </tr>\n",
       "    <tr>\n",
       "      <th>75%</th>\n",
       "      <td>1340.000000</td>\n",
       "      <td>90.000000</td>\n",
       "      <td>50.000000</td>\n",
       "      <td>14.00000</td>\n",
       "      <td>34870.000000</td>\n",
       "      <td>94.000000</td>\n",
       "    </tr>\n",
       "    <tr>\n",
       "      <th>max</th>\n",
       "      <td>1415.000000</td>\n",
       "      <td>100.000000</td>\n",
       "      <td>90.000000</td>\n",
       "      <td>25.00000</td>\n",
       "      <td>63575.000000</td>\n",
       "      <td>97.000000</td>\n",
       "    </tr>\n",
       "  </tbody>\n",
       "</table>\n",
       "</div>"
      ],
      "text/plain": [
       "               SAT       Top10     Accept   SFRatio      Expenses   GradRate\n",
       "count    25.000000   25.000000  25.000000  25.00000     25.000000  25.000000\n",
       "mean   1266.440000   76.480000  39.200000  12.72000  27388.000000  86.720000\n",
       "std     108.359771   19.433905  19.727308   4.06735  14424.883165   9.057778\n",
       "min    1005.000000   28.000000  14.000000   6.00000   8704.000000  67.000000\n",
       "25%    1240.000000   74.000000  24.000000  11.00000  15140.000000  81.000000\n",
       "50%    1285.000000   81.000000  36.000000  12.00000  27553.000000  90.000000\n",
       "75%    1340.000000   90.000000  50.000000  14.00000  34870.000000  94.000000\n",
       "max    1415.000000  100.000000  90.000000  25.00000  63575.000000  97.000000"
      ]
     },
     "execution_count": 29,
     "metadata": {},
     "output_type": "execute_result"
    }
   ],
   "source": [
    "df.describe()"
   ]
  },
  {
   "cell_type": "code",
   "execution_count": 30,
   "id": "a909e1bd-09bf-404d-8b03-9ec530882267",
   "metadata": {},
   "outputs": [
    {
     "name": "stdout",
     "output_type": "stream",
     "text": [
      "15.714285714285714\n"
     ]
    }
   ],
   "source": [
    "l=[1,2,3,4,5,6,89]\n",
    "print(np.mean(l))"
   ]
  },
  {
   "cell_type": "code",
   "execution_count": 20,
   "id": "1126b6d5-0424-4769-b4f9-198cf61f5c1c",
   "metadata": {},
   "outputs": [
    {
     "data": {
      "text/plain": [
       "4.0"
      ]
     },
     "execution_count": 20,
     "metadata": {},
     "output_type": "execute_result"
    }
   ],
   "source": [
    "np.median(l)"
   ]
  },
  {
   "cell_type": "markdown",
   "id": "308b75b3-97da-4df4-bcc0-b33abc0f2403",
   "metadata": {},
   "source": [
    "## visualization"
   ]
  },
  {
   "cell_type": "code",
   "execution_count": 34,
   "id": "a2b4bb5f-5079-437e-a042-26401ea0a868",
   "metadata": {},
   "outputs": [],
   "source": [
    "import matplotlib.pyplot as plt\n",
    "import seaborn as sns"
   ]
  },
  {
   "cell_type": "code",
   "execution_count": 39,
   "id": "7c9b51f4-e817-4c42-8ee2-ecb9f4bfc468",
   "metadata": {},
   "outputs": [
    {
     "data": {
      "text/plain": [
       "(array([2., 2., 0., 1., 2., 0., 3., 4., 4., 7.]),\n",
       " array([67., 70., 73., 76., 79., 82., 85., 88., 91., 94., 97.]),\n",
       " <BarContainer object of 10 artists>)"
      ]
     },
     "execution_count": 39,
     "metadata": {},
     "output_type": "execute_result"
    },
    {
     "data": {
      "image/png": "[encoded data removed]",
      "text/plain": [
       "<Figure size 600x600 with 1 Axes>"
      ]
     },
     "metadata": {},
     "output_type": "display_data"
    }
   ],
   "source": [
    "plt.figure(figsize=(6,6))#this will set the size of the graph\n",
    "plt.title(\"Graduation Rate\")#this will set the title for the graph\n",
    "plt.hist(df['GradRate'])#it will print the graph"
   ]
  },
  {
   "cell_type": "code",
   "execution_count": null,
   "id": "1a893b08-8360-4107-b487-c1da0b0996ec",
   "metadata": {},
   "outputs": [],
   "source": []
  }
 ],
 "metadata": {
  "kernelspec": {
   "display_name": "Python 3 (ipykernel)",
   "language": "python",
   "name": "python3"
  },
  "language_info": {
   "codemirror_mode": {
    "name": "ipython",
    "version": 3
   },
   "file_extension": ".py",
   "mimetype": "text/x-python",
   "name": "python",
   "nbconvert_exporter": "python",
   "pygments_lexer": "ipython3",
   "version": "3.12.7"
  }
 },
 "nbformat": 4,
 "nbformat_minor": 5
}
